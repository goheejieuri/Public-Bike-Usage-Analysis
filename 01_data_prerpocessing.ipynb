{
 "cells": [
  {
   "cell_type": "code",
   "execution_count": 65,
   "id": "69892de8-7a79-426b-8872-dedf9e29a19c",
   "metadata": {},
   "outputs": [],
   "source": [
    "import pandas as pd\n",
    "import numpy as np\n",
    "import seaborn as sns"
   ]
  },
  {
   "cell_type": "markdown",
   "id": "c8c16348-1cdb-4115-8083-cfc56d82f295",
   "metadata": {},
   "source": [
    "데이터 불러오기"
   ]
  },
  {
   "cell_type": "code",
   "execution_count": 67,
   "id": "95718968-6536-4b70-ba39-9f52359567db",
   "metadata": {},
   "outputs": [],
   "source": [
    "dtype_dic = {\n",
    "    '대여소번호' : 'str',\n",
    "}\n",
    "\n",
    "df_12 = pd.read_csv(\"C:/Users/USER/OneDrive/바탕 화면/고이/codeit/3. 초급 프로젝트/data/\\\n",
    "서울특별시 공공자전거 이용정보(시간대별)_202412.csv\", dtype = dtype_dic, encoding = 'cp949')"
   ]
  },
  {
   "cell_type": "code",
   "execution_count": 68,
   "id": "c93bd7eb-db95-4162-b507-7700c31585c5",
   "metadata": {},
   "outputs": [],
   "source": [
    "df_11 = pd.read_csv(\"C:/Users/USER/OneDrive/바탕 화면/고이/codeit/3. 초급 프로젝트/data/\\\n",
    "서울특별시 공공자전거 이용정보(시간대별)_202411.csv\", dtype = dtype_dic, encoding = 'cp949')"
   ]
  },
  {
   "cell_type": "code",
   "execution_count": 69,
   "id": "b713bfb1-3be5-4768-8847-490ce4276d11",
   "metadata": {},
   "outputs": [],
   "source": [
    "df_10 = pd.read_csv(\"C:/Users/USER/OneDrive/바탕 화면/고이/codeit/3. 초급 프로젝트/data/\\\n",
    "서울특별시 공공자전거 이용정보(시간대별)_202410.csv\", dtype = dtype_dic, encoding = 'cp949')"
   ]
  },
  {
   "cell_type": "code",
   "execution_count": 70,
   "id": "8c32d7f5-4360-4331-9096-a52dc3be1b52",
   "metadata": {},
   "outputs": [],
   "source": [
    "df_09 = pd.read_csv(\"C:/Users/USER/OneDrive/바탕 화면/고이/codeit/3. 초급 프로젝트/data/\\\n",
    "서울특별시 공공자전거 이용정보(시간대별)_202409.csv\", dtype = dtype_dic, encoding = 'cp949')"
   ]
  },
  {
   "cell_type": "code",
   "execution_count": 71,
   "id": "9941accf-ddff-45e7-ab76-0c6390c9bdcb",
   "metadata": {},
   "outputs": [],
   "source": [
    "df_08 = pd.read_csv(\"C:/Users/USER/OneDrive/바탕 화면/고이/codeit/3. 초급 프로젝트/data/\\\n",
    "서울특별시 공공자전거 이용정보(시간대별)_202408.csv\", dtype = dtype_dic, encoding = 'cp949')"
   ]
  },
  {
   "cell_type": "code",
   "execution_count": 72,
   "id": "14e9a2f0-18cb-4e00-b58d-288a27d2e593",
   "metadata": {},
   "outputs": [],
   "source": [
    "df_07 = pd.read_csv(\"C:/Users/USER/OneDrive/바탕 화면/고이/codeit/3. 초급 프로젝트/data/\\\n",
    "서울특별시 공공자전거 이용정보(시간대별)_202407.csv\", dtype = dtype_dic, encoding = 'cp949')"
   ]
  },
  {
   "cell_type": "code",
   "execution_count": 73,
   "id": "b585f988-3e2c-416d-afb8-5f8ff590ddfd",
   "metadata": {},
   "outputs": [],
   "source": [
    "df_06 = pd.read_csv(\"C:/Users/USER/OneDrive/바탕 화면/고이/codeit/3. 초급 프로젝트/data/\\\n",
    "서울특별시 공공자전거 이용정보(시간대별)_202406.csv\", dtype = dtype_dic, encoding = 'cp949')"
   ]
  },
  {
   "cell_type": "code",
   "execution_count": 74,
   "id": "4f5f14da-497a-4cac-a853-72fee718f5b3",
   "metadata": {},
   "outputs": [],
   "source": [
    "df_05 = pd.read_csv(\"C:/Users/USER/OneDrive/바탕 화면/고이/codeit/3. 초급 프로젝트/data/\\\n",
    "서울특별시 공공자전거 이용정보(시간대별)_202405.csv\", dtype = dtype_dic, encoding = 'cp949')"
   ]
  },
  {
   "cell_type": "code",
   "execution_count": 75,
   "id": "4d153850-d17d-4ba0-a719-4411b13d4ca8",
   "metadata": {},
   "outputs": [],
   "source": [
    "df_04 = pd.read_csv(\"C:/Users/USER/OneDrive/바탕 화면/고이/codeit/3. 초급 프로젝트/data/\\\n",
    "서울특별시 공공자전거 이용정보(시간대별)_202404.csv\", dtype = dtype_dic, encoding = 'cp949')"
   ]
  },
  {
   "cell_type": "code",
   "execution_count": 76,
   "id": "35c5b16b-9c9e-48dc-869c-353ef33485d4",
   "metadata": {},
   "outputs": [],
   "source": [
    "df_03 = pd.read_csv(\"C:/Users/USER/OneDrive/바탕 화면/고이/codeit/3. 초급 프로젝트/data/\\\n",
    "서울특별시 공공자전거 이용정보(시간대별)_202403.csv\", dtype = dtype_dic, encoding = 'cp949')"
   ]
  },
  {
   "cell_type": "code",
   "execution_count": 77,
   "id": "fe32a1d9-96d8-435e-8358-b718a80cd59a",
   "metadata": {},
   "outputs": [],
   "source": [
    "df_02 = pd.read_csv(\"C:/Users/USER/OneDrive/바탕 화면/고이/codeit/3. 초급 프로젝트/data/\\\n",
    "서울특별시 공공자전거 이용정보(시간대별)_202402.csv\", dtype = dtype_dic, encoding = 'cp949')"
   ]
  },
  {
   "cell_type": "code",
   "execution_count": 78,
   "id": "a6a5f0ec-b52b-4787-a2bd-ec23fd3c4f96",
   "metadata": {},
   "outputs": [],
   "source": [
    "df_01 = pd.read_csv(\"C:/Users/USER/OneDrive/바탕 화면/고이/codeit/3. 초급 프로젝트/data/\\\n",
    "서울특별시 공공자전거 이용정보(시간대별)_202401.csv\", dtype = dtype_dic, encoding = 'cp949')"
   ]
  },
  {
   "cell_type": "code",
   "execution_count": 79,
   "id": "a6e8d51a-950f-4966-81e1-05a923ddbb3d",
   "metadata": {},
   "outputs": [],
   "source": [
    "# 데이터 병합\n",
    "\n",
    "df = pd.concat([df_01, df_02, df_03, df_04, df_05, df_06, df_07, df_08, df_09, df_10, df_11, df_12])"
   ]
  },
  {
   "cell_type": "code",
   "execution_count": 80,
   "id": "68b3cda8-0f87-40aa-bdea-63263f87ef85",
   "metadata": {},
   "outputs": [
    {
     "data": {
      "text/plain": [
       "<bound method DataFrame.info of                대여일자  대여시간  대여소번호                     대여소명 대여구분코드   성별 연령대코드  \\\n",
       "0        2024-01-01     0  01175        1175. 대한항공 인력개발센터    정기권  NaN  ~10대   \n",
       "1        2024-01-01     0  00669        669.청계한신휴플러스앞 삼거리    정기권  NaN  ~10대   \n",
       "2        2024-01-01     0  05760        5760. 풍납사거리 성내유수지    정기권  NaN  ~10대   \n",
       "3        2024-01-01     0  01153  1153. 발산역 1번, 9번 인근 대여소    정기권  NaN   20대   \n",
       "4        2024-01-01     0  01265           1265. 문정동 근린공원    정기권  NaN   20대   \n",
       "...             ...   ...    ...                      ...    ...  ...   ...   \n",
       "2126128  2024-12-31    23  02547         2547. 반포래미안 리오센트    정기권    M    기타   \n",
       "2126129  2024-12-31    23  03680            3680. 강동역3번출구    정기권    M    기타   \n",
       "2126130  2024-12-31    23  00240          240. 문래역 4번출구 앞    정기권    M    기타   \n",
       "2126131  2024-12-31    23  05773         5773. 송파시그니처롯데캐슬    정기권    M    기타   \n",
       "2126132  2024-12-31    23  01911         1911. 구로디지털단지역 앞    정기권    M    기타   \n",
       "\n",
       "         이용건수     운동량   탄소량  이동거리(M)  이용시간(분)  \n",
       "0           1   13.15  0.14   582.54        4  \n",
       "1           1   33.28  0.33  1424.60       43  \n",
       "2           1   29.38  0.26  1141.34        7  \n",
       "3           1   72.24  0.83  3577.09       25  \n",
       "4           1   61.91  0.47  2004.37       15  \n",
       "...       ...     ...   ...      ...      ...  \n",
       "2126128     1  143.46  1.05  4528.32       68  \n",
       "2126129     1    0.00  0.00     0.00        2  \n",
       "2126130     1   18.28  0.16   710.00        9  \n",
       "2126131     1   39.75  0.36  1544.25       18  \n",
       "2126132     1   17.09  0.15   634.55        5  \n",
       "\n",
       "[39676932 rows x 12 columns]>"
      ]
     },
     "execution_count": 80,
     "metadata": {},
     "output_type": "execute_result"
    }
   ],
   "source": [
    "df.info"
   ]
  },
  {
   "cell_type": "code",
   "execution_count": 81,
   "id": "a28dc86d-1850-402e-a71d-fa1d8d5c15a7",
   "metadata": {},
   "outputs": [
    {
     "data": {
      "text/html": [
       "<div>\n",
       "<style scoped>\n",
       "    .dataframe tbody tr th:only-of-type {\n",
       "        vertical-align: middle;\n",
       "    }\n",
       "\n",
       "    .dataframe tbody tr th {\n",
       "        vertical-align: top;\n",
       "    }\n",
       "\n",
       "    .dataframe thead th {\n",
       "        text-align: right;\n",
       "    }\n",
       "</style>\n",
       "<table border=\"1\" class=\"dataframe\">\n",
       "  <thead>\n",
       "    <tr style=\"text-align: right;\">\n",
       "      <th></th>\n",
       "      <th>대여시간</th>\n",
       "      <th>이용건수</th>\n",
       "      <th>이동거리(M)</th>\n",
       "      <th>이용시간(분)</th>\n",
       "    </tr>\n",
       "  </thead>\n",
       "  <tbody>\n",
       "    <tr>\n",
       "      <th>count</th>\n",
       "      <td>3.967693e+07</td>\n",
       "      <td>3.967693e+07</td>\n",
       "      <td>3.967693e+07</td>\n",
       "      <td>3.967693e+07</td>\n",
       "    </tr>\n",
       "    <tr>\n",
       "      <th>mean</th>\n",
       "      <td>1.396435e+01</td>\n",
       "      <td>1.105085e+00</td>\n",
       "      <td>2.606281e+03</td>\n",
       "      <td>2.312454e+01</td>\n",
       "    </tr>\n",
       "    <tr>\n",
       "      <th>std</th>\n",
       "      <td>5.749012e+00</td>\n",
       "      <td>4.231550e-01</td>\n",
       "      <td>3.378965e+03</td>\n",
       "      <td>3.000891e+01</td>\n",
       "    </tr>\n",
       "    <tr>\n",
       "      <th>min</th>\n",
       "      <td>0.000000e+00</td>\n",
       "      <td>1.000000e+00</td>\n",
       "      <td>0.000000e+00</td>\n",
       "      <td>0.000000e+00</td>\n",
       "    </tr>\n",
       "    <tr>\n",
       "      <th>25%</th>\n",
       "      <td>9.000000e+00</td>\n",
       "      <td>1.000000e+00</td>\n",
       "      <td>8.600000e+02</td>\n",
       "      <td>6.000000e+00</td>\n",
       "    </tr>\n",
       "    <tr>\n",
       "      <th>50%</th>\n",
       "      <td>1.500000e+01</td>\n",
       "      <td>1.000000e+00</td>\n",
       "      <td>1.527160e+03</td>\n",
       "      <td>1.200000e+01</td>\n",
       "    </tr>\n",
       "    <tr>\n",
       "      <th>75%</th>\n",
       "      <td>1.800000e+01</td>\n",
       "      <td>1.000000e+00</td>\n",
       "      <td>2.920000e+03</td>\n",
       "      <td>2.800000e+01</td>\n",
       "    </tr>\n",
       "    <tr>\n",
       "      <th>max</th>\n",
       "      <td>2.300000e+01</td>\n",
       "      <td>3.900000e+01</td>\n",
       "      <td>3.972412e+05</td>\n",
       "      <td>1.143600e+04</td>\n",
       "    </tr>\n",
       "  </tbody>\n",
       "</table>\n",
       "</div>"
      ],
      "text/plain": [
       "               대여시간          이용건수       이동거리(M)       이용시간(분)\n",
       "count  3.967693e+07  3.967693e+07  3.967693e+07  3.967693e+07\n",
       "mean   1.396435e+01  1.105085e+00  2.606281e+03  2.312454e+01\n",
       "std    5.749012e+00  4.231550e-01  3.378965e+03  3.000891e+01\n",
       "min    0.000000e+00  1.000000e+00  0.000000e+00  0.000000e+00\n",
       "25%    9.000000e+00  1.000000e+00  8.600000e+02  6.000000e+00\n",
       "50%    1.500000e+01  1.000000e+00  1.527160e+03  1.200000e+01\n",
       "75%    1.800000e+01  1.000000e+00  2.920000e+03  2.800000e+01\n",
       "max    2.300000e+01  3.900000e+01  3.972412e+05  1.143600e+04"
      ]
     },
     "execution_count": 81,
     "metadata": {},
     "output_type": "execute_result"
    }
   ],
   "source": [
    "df.describe()"
   ]
  },
  {
   "cell_type": "code",
   "execution_count": 82,
   "id": "a23ead8e-25bf-4780-8072-cded8a8cc823",
   "metadata": {},
   "outputs": [
    {
     "data": {
      "text/html": [
       "<div>\n",
       "<style scoped>\n",
       "    .dataframe tbody tr th:only-of-type {\n",
       "        vertical-align: middle;\n",
       "    }\n",
       "\n",
       "    .dataframe tbody tr th {\n",
       "        vertical-align: top;\n",
       "    }\n",
       "\n",
       "    .dataframe thead th {\n",
       "        text-align: right;\n",
       "    }\n",
       "</style>\n",
       "<table border=\"1\" class=\"dataframe\">\n",
       "  <thead>\n",
       "    <tr style=\"text-align: right;\">\n",
       "      <th></th>\n",
       "      <th>대여일자</th>\n",
       "      <th>대여시간</th>\n",
       "      <th>대여소번호</th>\n",
       "      <th>대여소명</th>\n",
       "      <th>대여구분코드</th>\n",
       "      <th>성별</th>\n",
       "      <th>연령대코드</th>\n",
       "      <th>이용건수</th>\n",
       "      <th>운동량</th>\n",
       "      <th>탄소량</th>\n",
       "      <th>이동거리(M)</th>\n",
       "      <th>이용시간(분)</th>\n",
       "    </tr>\n",
       "  </thead>\n",
       "  <tbody>\n",
       "    <tr>\n",
       "      <th>0</th>\n",
       "      <td>2024-01-01</td>\n",
       "      <td>0</td>\n",
       "      <td>01175</td>\n",
       "      <td>1175. 대한항공 인력개발센터</td>\n",
       "      <td>정기권</td>\n",
       "      <td>NaN</td>\n",
       "      <td>~10대</td>\n",
       "      <td>1</td>\n",
       "      <td>13.15</td>\n",
       "      <td>0.14</td>\n",
       "      <td>582.54</td>\n",
       "      <td>4</td>\n",
       "    </tr>\n",
       "    <tr>\n",
       "      <th>1</th>\n",
       "      <td>2024-01-01</td>\n",
       "      <td>0</td>\n",
       "      <td>00669</td>\n",
       "      <td>669.청계한신휴플러스앞 삼거리</td>\n",
       "      <td>정기권</td>\n",
       "      <td>NaN</td>\n",
       "      <td>~10대</td>\n",
       "      <td>1</td>\n",
       "      <td>33.28</td>\n",
       "      <td>0.33</td>\n",
       "      <td>1424.60</td>\n",
       "      <td>43</td>\n",
       "    </tr>\n",
       "    <tr>\n",
       "      <th>2</th>\n",
       "      <td>2024-01-01</td>\n",
       "      <td>0</td>\n",
       "      <td>05760</td>\n",
       "      <td>5760. 풍납사거리 성내유수지</td>\n",
       "      <td>정기권</td>\n",
       "      <td>NaN</td>\n",
       "      <td>~10대</td>\n",
       "      <td>1</td>\n",
       "      <td>29.38</td>\n",
       "      <td>0.26</td>\n",
       "      <td>1141.34</td>\n",
       "      <td>7</td>\n",
       "    </tr>\n",
       "    <tr>\n",
       "      <th>3</th>\n",
       "      <td>2024-01-01</td>\n",
       "      <td>0</td>\n",
       "      <td>01153</td>\n",
       "      <td>1153. 발산역 1번, 9번 인근 대여소</td>\n",
       "      <td>정기권</td>\n",
       "      <td>NaN</td>\n",
       "      <td>20대</td>\n",
       "      <td>1</td>\n",
       "      <td>72.24</td>\n",
       "      <td>0.83</td>\n",
       "      <td>3577.09</td>\n",
       "      <td>25</td>\n",
       "    </tr>\n",
       "    <tr>\n",
       "      <th>4</th>\n",
       "      <td>2024-01-01</td>\n",
       "      <td>0</td>\n",
       "      <td>01265</td>\n",
       "      <td>1265. 문정동 근린공원</td>\n",
       "      <td>정기권</td>\n",
       "      <td>NaN</td>\n",
       "      <td>20대</td>\n",
       "      <td>1</td>\n",
       "      <td>61.91</td>\n",
       "      <td>0.47</td>\n",
       "      <td>2004.37</td>\n",
       "      <td>15</td>\n",
       "    </tr>\n",
       "  </tbody>\n",
       "</table>\n",
       "</div>"
      ],
      "text/plain": [
       "         대여일자  대여시간  대여소번호                     대여소명 대여구분코드   성별 연령대코드  이용건수  \\\n",
       "0  2024-01-01     0  01175        1175. 대한항공 인력개발센터    정기권  NaN  ~10대     1   \n",
       "1  2024-01-01     0  00669        669.청계한신휴플러스앞 삼거리    정기권  NaN  ~10대     1   \n",
       "2  2024-01-01     0  05760        5760. 풍납사거리 성내유수지    정기권  NaN  ~10대     1   \n",
       "3  2024-01-01     0  01153  1153. 발산역 1번, 9번 인근 대여소    정기권  NaN   20대     1   \n",
       "4  2024-01-01     0  01265           1265. 문정동 근린공원    정기권  NaN   20대     1   \n",
       "\n",
       "     운동량   탄소량  이동거리(M)  이용시간(분)  \n",
       "0  13.15  0.14   582.54        4  \n",
       "1  33.28  0.33  1424.60       43  \n",
       "2  29.38  0.26  1141.34        7  \n",
       "3  72.24  0.83  3577.09       25  \n",
       "4  61.91  0.47  2004.37       15  "
      ]
     },
     "execution_count": 82,
     "metadata": {},
     "output_type": "execute_result"
    }
   ],
   "source": [
    "df.head(5)"
   ]
  },
  {
   "cell_type": "markdown",
   "id": "0589634e-5381-4fd6-af9a-be3610bbdf2a",
   "metadata": {},
   "source": [
    "결측값 제거"
   ]
  },
  {
   "cell_type": "code",
   "execution_count": 84,
   "id": "d0b71488-cfd2-4c1f-b0bd-a2d270899b21",
   "metadata": {},
   "outputs": [],
   "source": [
    "df = df.dropna()"
   ]
  },
  {
   "cell_type": "code",
   "execution_count": 85,
   "id": "d7672b70-48d3-4bf8-a5ca-b800a412373e",
   "metadata": {},
   "outputs": [
    {
     "data": {
      "text/plain": [
       "(28753426, 12)"
      ]
     },
     "execution_count": 85,
     "metadata": {},
     "output_type": "execute_result"
    }
   ],
   "source": [
    "df.shape"
   ]
  },
  {
   "cell_type": "markdown",
   "id": "63f3d1b7-7362-41c6-9c4a-de99c86c7ff2",
   "metadata": {},
   "source": [
    "중복값 확인"
   ]
  },
  {
   "cell_type": "code",
   "execution_count": 87,
   "id": "fb0489d3-a6fd-4ac1-84ad-ab998e8806ec",
   "metadata": {},
   "outputs": [
    {
     "data": {
      "text/plain": [
       "0"
      ]
     },
     "execution_count": 87,
     "metadata": {},
     "output_type": "execute_result"
    }
   ],
   "source": [
    "df.duplicated().sum()"
   ]
  },
  {
   "cell_type": "markdown",
   "id": "4aa46536-481e-4c60-bda7-f231c5ccb475",
   "metadata": {},
   "source": [
    "필요없는 컬럼 제거"
   ]
  },
  {
   "cell_type": "code",
   "execution_count": 89,
   "id": "b9936f7b-6363-471a-9bc2-fd1a40ee7d33",
   "metadata": {},
   "outputs": [],
   "source": [
    "df = df.drop(columns = ['운동량', '탄소량'])"
   ]
  },
  {
   "cell_type": "markdown",
   "id": "e7a9ba7c-32b0-4a63-8f7e-bacb18475fca",
   "metadata": {},
   "source": [
    "대여소번호, 대여소명 일치 여부 확인"
   ]
  },
  {
   "cell_type": "code",
   "execution_count": 91,
   "id": "1884ef61-5255-42c2-bdb0-6518c61a0a53",
   "metadata": {},
   "outputs": [
    {
     "data": {
      "text/plain": [
       "(2810, 2816)"
      ]
     },
     "execution_count": 91,
     "metadata": {},
     "output_type": "execute_result"
    }
   ],
   "source": [
    "df['대여소번호'].nunique(), df['대여소명'].nunique()"
   ]
  },
  {
   "cell_type": "code",
   "execution_count": 92,
   "id": "86b0fc6d-37e9-4fdb-a60c-841a66295f3c",
   "metadata": {},
   "outputs": [
    {
     "data": {
      "text/plain": [
       "대여소명\n",
       "2608. 송파구청             1\n",
       "4515. 동문굿모닝탑           1\n",
       "4262. 서대문자연사박물관 입구     1\n",
       "3922. 서울남부교정시설 앞       1\n",
       "3934. 철도교통관제센터 정문 앞    1\n",
       "                      ..\n",
       "3528. 광진정보도서관          1\n",
       "456. 숭인2동 주민센터 입구      1\n",
       "292. 영일 어린이공원          1\n",
       "777.신월6차보람아파트 앞        1\n",
       "5513. 마포음식문화거리         1\n",
       "Name: count, Length: 2816, dtype: int64"
      ]
     },
     "execution_count": 92,
     "metadata": {},
     "output_type": "execute_result"
    }
   ],
   "source": [
    "check_df = df[['대여소번호','대여소명']].drop_duplicates()['대여소명'].value_counts()\n",
    "check_df"
   ]
  },
  {
   "cell_type": "code",
   "execution_count": 93,
   "id": "0811cb2f-7ba8-49df-9519-da8042ae9184",
   "metadata": {},
   "outputs": [
    {
     "data": {
      "text/plain": [
       "대여소번호\n",
       "01516    2\n",
       "00302    2\n",
       "02612    2\n",
       "01319    2\n",
       "03642    2\n",
       "        ..\n",
       "01348    1\n",
       "01349    1\n",
       "01351    1\n",
       "01352    1\n",
       "09980    1\n",
       "Name: 대여소명, Length: 2810, dtype: int64"
      ]
     },
     "execution_count": 93,
     "metadata": {},
     "output_type": "execute_result"
    }
   ],
   "source": [
    "df.groupby('대여소번호')['대여소명'].nunique().sort_values(ascending=False)"
   ]
  },
  {
   "cell_type": "code",
   "execution_count": 94,
   "id": "e00cb3f8-4297-4979-9bff-a79ce1d34b57",
   "metadata": {},
   "outputs": [
    {
     "data": {
      "text/html": [
       "<div>\n",
       "<style scoped>\n",
       "    .dataframe tbody tr th:only-of-type {\n",
       "        vertical-align: middle;\n",
       "    }\n",
       "\n",
       "    .dataframe tbody tr th {\n",
       "        vertical-align: top;\n",
       "    }\n",
       "\n",
       "    .dataframe thead th {\n",
       "        text-align: right;\n",
       "    }\n",
       "</style>\n",
       "<table border=\"1\" class=\"dataframe\">\n",
       "  <thead>\n",
       "    <tr style=\"text-align: right;\">\n",
       "      <th></th>\n",
       "      <th>대여소번호</th>\n",
       "      <th>대여소명</th>\n",
       "    </tr>\n",
       "  </thead>\n",
       "  <tbody>\n",
       "    <tr>\n",
       "      <th>167</th>\n",
       "      <td>00302</td>\n",
       "      <td>2</td>\n",
       "    </tr>\n",
       "    <tr>\n",
       "      <th>918</th>\n",
       "      <td>01319</td>\n",
       "      <td>2</td>\n",
       "    </tr>\n",
       "    <tr>\n",
       "      <th>1053</th>\n",
       "      <td>01516</td>\n",
       "      <td>2</td>\n",
       "    </tr>\n",
       "    <tr>\n",
       "      <th>1587</th>\n",
       "      <td>02381</td>\n",
       "      <td>2</td>\n",
       "    </tr>\n",
       "    <tr>\n",
       "      <th>1678</th>\n",
       "      <td>02612</td>\n",
       "      <td>2</td>\n",
       "    </tr>\n",
       "    <tr>\n",
       "      <th>1974</th>\n",
       "      <td>03642</td>\n",
       "      <td>2</td>\n",
       "    </tr>\n",
       "  </tbody>\n",
       "</table>\n",
       "</div>"
      ],
      "text/plain": [
       "      대여소번호  대여소명\n",
       "167   00302     2\n",
       "918   01319     2\n",
       "1053  01516     2\n",
       "1587  02381     2\n",
       "1678  02612     2\n",
       "1974  03642     2"
      ]
     },
     "execution_count": 94,
     "metadata": {},
     "output_type": "execute_result"
    }
   ],
   "source": [
    "df.groupby('대여소번호')['대여소명'].nunique().reset_index().query('대여소명 > 1')"
   ]
  },
  {
   "cell_type": "code",
   "execution_count": 95,
   "id": "edbba201-c79f-4fbb-b7ce-089f9cdeb738",
   "metadata": {},
   "outputs": [
    {
     "data": {
      "text/plain": [
       "676        302. 경복궁역 4번출구 뒤\n",
       "3106       302. 경복궁역 4번출구 뒤\n",
       "3482       302. 경복궁역 4번출구 뒤\n",
       "3760       302. 경복궁역 4번출구 뒤\n",
       "4216       302. 경복궁역 4번출구 뒤\n",
       "                 ...       \n",
       "2104574    302. 경복궁역 6번출구 뒤\n",
       "2105234    302. 경복궁역 6번출구 뒤\n",
       "2108496    302. 경복궁역 6번출구 뒤\n",
       "2120814    302. 경복궁역 6번출구 뒤\n",
       "2125888    302. 경복궁역 6번출구 뒤\n",
       "Name: 대여소명, Length: 18799, dtype: object"
      ]
     },
     "execution_count": 95,
     "metadata": {},
     "output_type": "execute_result"
    }
   ],
   "source": [
    "df.loc[df['대여소번호'] == '00302', '대여소명']"
   ]
  },
  {
   "cell_type": "code",
   "execution_count": 96,
   "id": "4fa3d9b7-25b6-42db-9ed1-8b10a56e3d6c",
   "metadata": {},
   "outputs": [
    {
     "data": {
      "text/plain": [
       "3735       1319. 종암사거리 분수대\n",
       "11001      1319. 종암사거리 분수대\n",
       "14297      1319. 종암사거리 분수대\n",
       "18749      1319. 종암사거리 분수대\n",
       "22435      1319. 종암사거리 분수대\n",
       "                ...       \n",
       "2109977       1319. 종암박스파크\n",
       "2114651       1319. 종암박스파크\n",
       "2114951       1319. 종암박스파크\n",
       "2119663       1319. 종암박스파크\n",
       "2126121       1319. 종암박스파크\n",
       "Name: 대여소명, Length: 6409, dtype: object"
      ]
     },
     "execution_count": 96,
     "metadata": {},
     "output_type": "execute_result"
    }
   ],
   "source": [
    "df.loc[df['대여소번호'] == '01319', '대여소명']"
   ]
  },
  {
   "cell_type": "code",
   "execution_count": 97,
   "id": "7025db39-b15c-4fb6-962a-c1fd3f0cae20",
   "metadata": {},
   "outputs": [
    {
     "data": {
      "text/plain": [
       "5239       1516. 우이초등학교 후문 옆\n",
       "12335      1516. 우이초등학교 후문 옆\n",
       "20161      1516. 우이초등학교 후문 옆\n",
       "20870      1516. 우이초등학교 후문 옆\n",
       "31640      1516. 우이초등학교 후문 옆\n",
       "                 ...        \n",
       "2111835       1516. 우이동길마을마당\n",
       "2116177       1516. 우이동길마을마당\n",
       "2118520       1516. 우이동길마을마당\n",
       "2123155       1516. 우이동길마을마당\n",
       "2125147       1516. 우이동길마을마당\n",
       "Name: 대여소명, Length: 5451, dtype: object"
      ]
     },
     "execution_count": 97,
     "metadata": {},
     "output_type": "execute_result"
    }
   ],
   "source": [
    "df.loc[df['대여소번호'] == '01516', '대여소명']"
   ]
  },
  {
   "cell_type": "code",
   "execution_count": 98,
   "id": "529ba1fc-0e2a-4571-9079-d1dd336ba11d",
   "metadata": {},
   "outputs": [
    {
     "data": {
      "text/plain": [
       "13493      2381. 언주역 6번출구앞\n",
       "19789      2381. 언주역 6번출구앞\n",
       "29302      2381. 언주역 6번출구앞\n",
       "49314      2381. 언주역 6번출구앞\n",
       "52168      2381. 언주역 6번출구앞\n",
       "                ...       \n",
       "2075149    2381. 언주역 3번출구앞\n",
       "2085096    2381. 언주역 3번출구앞\n",
       "2086213    2381. 언주역 3번출구앞\n",
       "2095968    2381. 언주역 3번출구앞\n",
       "2111840    2381. 언주역 3번출구앞\n",
       "Name: 대여소명, Length: 4167, dtype: object"
      ]
     },
     "execution_count": 98,
     "metadata": {},
     "output_type": "execute_result"
    }
   ],
   "source": [
    "df.loc[df['대여소번호'] == '02381', '대여소명']"
   ]
  },
  {
   "cell_type": "code",
   "execution_count": 99,
   "id": "27ec1835-7289-44d9-a620-e1a4d9c1eb6b",
   "metadata": {},
   "outputs": [
    {
     "data": {
      "text/plain": [
       "171750     2612. 문정·가락 대여소 앞\n",
       "231130     2612. 문정·가락 대여소 앞\n",
       "342871     2612. 문정·가락 대여소 앞\n",
       "788569     2612. 문정·가락 대여소 앞\n",
       "891180     2612. 문정·가락 대여소 앞\n",
       "                 ...        \n",
       "1299821      2612. 광평교사거리 인근\n",
       "1433725      2612. 광평교사거리 인근\n",
       "1874962      2612. 광평교사거리 인근\n",
       "1926359      2612. 광평교사거리 인근\n",
       "1954680      2612. 광평교사거리 인근\n",
       "Name: 대여소명, Length: 464, dtype: object"
      ]
     },
     "execution_count": 99,
     "metadata": {},
     "output_type": "execute_result"
    }
   ],
   "source": [
    "df.loc[df['대여소번호'] == '02612', '대여소명']"
   ]
  },
  {
   "cell_type": "code",
   "execution_count": 100,
   "id": "e7f7e48c-2fe4-4d87-9ff0-05aa49f00a3e",
   "metadata": {},
   "outputs": [
    {
     "data": {
      "text/plain": [
       "8699       3642. LH강남힐스테이트아파트\n",
       "9891       3642. LH강남힐스테이트아파트\n",
       "10727      3642. LH강남힐스테이트아파트\n",
       "19703      3642. LH강남힐스테이트아파트\n",
       "20377      3642. LH강남힐스테이트아파트\n",
       "                  ...        \n",
       "2099838       3642. 강남자곡힐스테이트\n",
       "2101324       3642. 강남자곡힐스테이트\n",
       "2110258       3642. 강남자곡힐스테이트\n",
       "2112882       3642. 강남자곡힐스테이트\n",
       "2125672       3642. 강남자곡힐스테이트\n",
       "Name: 대여소명, Length: 7775, dtype: object"
      ]
     },
     "execution_count": 100,
     "metadata": {},
     "output_type": "execute_result"
    }
   ],
   "source": [
    "df.loc[df['대여소번호'] == '03642', '대여소명']"
   ]
  },
  {
   "cell_type": "code",
   "execution_count": 101,
   "id": "364fa1b3-7265-4564-b984-fbefc039af41",
   "metadata": {},
   "outputs": [],
   "source": [
    "# # DataFrame_bus = {\n",
    "#     '00302' : '302. 경복궁역 4번출구 뒤',\n",
    "#     '01319' : '1319. 종암사거리 분수대',\n",
    "#     '01516' : '1516. 우이초등학교 후문 옆',\n",
    "#     '02381' : '2381. 언주역 6번출구앞',\n",
    "#     '02612' : '2612. 문정·가락 대여소 앞',\n",
    "#     '03642' : '3642. LH강남힐스테이트아파트'\n",
    "# }"
   ]
  },
  {
   "cell_type": "code",
   "execution_count": 102,
   "id": "807ae344-ea0f-444d-a17b-fbb4d6f5db20",
   "metadata": {},
   "outputs": [],
   "source": [
    "df.loc[df['대여소번호'] == '00302', '대여소명'] = '302. 경복궁역 4번출구 뒤'\n",
    "df.loc[df['대여소번호'] == '01319', '대여소명'] = '1319. 종암사거리 분수대'\n",
    "df.loc[df['대여소번호'] == '01516', '대여소명'] = '1516. 우이초등학교 후문 옆'\n",
    "df.loc[df['대여소번호'] == '02381', '대여소명'] = '2381. 언주역 6번출구앞'\n",
    "df.loc[df['대여소번호'] == '02612', '대여소명'] = '2612. 문정·가락 대여소 앞'\n",
    "df.loc[df['대여소번호'] == '03642', '대여소명'] = '3642. LH강남힐스테이트아파트'"
   ]
  },
  {
   "cell_type": "code",
   "execution_count": 103,
   "id": "6cf73ca5-8f07-4c60-bd4c-3897c6b75995",
   "metadata": {},
   "outputs": [
    {
     "data": {
      "text/plain": [
       "(2810, 2810)"
      ]
     },
     "execution_count": 103,
     "metadata": {},
     "output_type": "execute_result"
    }
   ],
   "source": [
    "df['대여소번호'].nunique(), df['대여소명'].nunique()"
   ]
  },
  {
   "cell_type": "markdown",
   "id": "11bfa54e-eab4-49a2-b87b-571340bdfe79",
   "metadata": {},
   "source": [
    "이동거리/이동시간 0인 로우 삭제"
   ]
  },
  {
   "cell_type": "code",
   "execution_count": 105,
   "id": "d11b78f4-5363-40f2-ade7-19eac34f8273",
   "metadata": {},
   "outputs": [
    {
     "data": {
      "text/plain": [
       "(28079697, 10)"
      ]
     },
     "execution_count": 105,
     "metadata": {},
     "output_type": "execute_result"
    }
   ],
   "source": [
    "df = df[df['이동거리(M)'] != 0]\n",
    "df.shape"
   ]
  },
  {
   "cell_type": "code",
   "execution_count": 106,
   "id": "a277bacf-f0cf-4fc0-8e55-f7af356d8946",
   "metadata": {},
   "outputs": [
    {
     "data": {
      "text/plain": [
       "(28073653, 10)"
      ]
     },
     "execution_count": 106,
     "metadata": {},
     "output_type": "execute_result"
    }
   ],
   "source": [
    "df = df[df['이용시간(분)'] != 0]\n",
    "df.shape"
   ]
  },
  {
   "cell_type": "code",
   "execution_count": 107,
   "id": "2389c203-4d1d-45b9-9795-63a809fbf8ab",
   "metadata": {},
   "outputs": [
    {
     "data": {
      "text/plain": [
       "0"
      ]
     },
     "execution_count": 107,
     "metadata": {},
     "output_type": "execute_result"
    }
   ],
   "source": [
    "df[df['이용건수'] == 0].shape[0]"
   ]
  },
  {
   "cell_type": "markdown",
   "id": "73c7fcd6-38d4-4dc7-9151-5ff93d2321c7",
   "metadata": {},
   "source": [
    "데이터 추출하기"
   ]
  },
  {
   "cell_type": "code",
   "execution_count": 109,
   "id": "1fb5b935-0044-4f94-99cd-d484e1d1c6ed",
   "metadata": {},
   "outputs": [],
   "source": [
    "df.to_csv(\"C:/Users/USER/OneDrive/바탕 화면/고이/codeit/3. 초급 프로젝트/data/서울특별시 공공자전거 이용정보(시간대별)_2024.csv\",  \n",
    "          encoding='cp949', index=False)"
   ]
  },
  {
   "cell_type": "code",
   "execution_count": null,
   "id": "d6536585-38e7-4cca-84a0-38e1327a499f",
   "metadata": {},
   "outputs": [],
   "source": []
  },
  {
   "cell_type": "code",
   "execution_count": null,
   "id": "ae691363-7a9d-49ca-b4b0-ba10ae6eb9fb",
   "metadata": {},
   "outputs": [],
   "source": []
  },
  {
   "cell_type": "code",
   "execution_count": null,
   "id": "8ef1b0b1-59e6-49e9-b9e1-4a2b293a38fa",
   "metadata": {},
   "outputs": [],
   "source": []
  },
  {
   "cell_type": "code",
   "execution_count": null,
   "id": "7babd8a6-341e-496e-9fe0-de3d079143ef",
   "metadata": {},
   "outputs": [],
   "source": []
  },
  {
   "cell_type": "code",
   "execution_count": null,
   "id": "27561d69-c88e-41b7-b3ea-2b7bb3dde834",
   "metadata": {},
   "outputs": [],
   "source": []
  },
  {
   "cell_type": "code",
   "execution_count": null,
   "id": "651c5b86-a281-420b-bb78-f6e551eefe3d",
   "metadata": {},
   "outputs": [],
   "source": []
  }
 ],
 "metadata": {
  "kernelspec": {
   "display_name": "Python [conda env:base] *",
   "language": "python",
   "name": "conda-base-py"
  },
  "language_info": {
   "codemirror_mode": {
    "name": "ipython",
    "version": 3
   },
   "file_extension": ".py",
   "mimetype": "text/x-python",
   "name": "python",
   "nbconvert_exporter": "python",
   "pygments_lexer": "ipython3",
   "version": "3.12.7"
  }
 },
 "nbformat": 4,
 "nbformat_minor": 5
}
